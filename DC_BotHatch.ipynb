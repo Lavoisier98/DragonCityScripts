{
 "cells": [
  {
   "cell_type": "code",
   "execution_count": 60,
   "id": "26c051e4",
   "metadata": {},
   "outputs": [
    {
     "ename": "KeyboardInterrupt",
     "evalue": "",
     "output_type": "error",
     "traceback": [
      "\u001b[1;31m---------------------------------------------------------------------------\u001b[0m",
      "\u001b[1;31mKeyboardInterrupt\u001b[0m                         Traceback (most recent call last)",
      "Input \u001b[1;32mIn [60]\u001b[0m, in \u001b[0;36m<cell line: 12>\u001b[1;34m()\u001b[0m\n\u001b[0;32m      5\u001b[0m \u001b[38;5;66;03m#Pré-set: 2 Earth Dragons prontos pro Hatch na esquerda\u001b[39;00m\n\u001b[0;32m      6\u001b[0m \u001b[38;5;66;03m#         APENAS 1 espaço livre no Kindergarden e 1 no Hatchery\u001b[39;00m\n\u001b[0;32m      7\u001b[0m \u001b[38;5;66;03m#IMPORTANTE: Calibragem no zoom 4, mas dando PLACE NO HATCHERY\u001b[39;00m\n\u001b[0;32m      8\u001b[0m \n\u001b[0;32m      9\u001b[0m \u001b[38;5;66;03m#Tempo estimado: 15 segundos/5 pontos\u001b[39;00m\n\u001b[0;32m     11\u001b[0m pg\u001b[38;5;241m.\u001b[39mPAUSE \u001b[38;5;241m=\u001b[39m \u001b[38;5;241m0.5\u001b[39m\n\u001b[1;32m---> 12\u001b[0m \u001b[43mtm\u001b[49m\u001b[38;5;241;43m.\u001b[39;49m\u001b[43msleep\u001b[49m\u001b[43m(\u001b[49m\u001b[38;5;241;43m5\u001b[39;49m\u001b[43m)\u001b[49m\n\u001b[0;32m     13\u001b[0m \u001b[38;5;66;03m#Comprar\u001b[39;00m\n\u001b[0;32m     14\u001b[0m pg\u001b[38;5;241m.\u001b[39mclick(x\u001b[38;5;241m=\u001b[39m\u001b[38;5;241m678\u001b[39m, y\u001b[38;5;241m=\u001b[39m\u001b[38;5;241m380\u001b[39m)\n",
      "\u001b[1;31mKeyboardInterrupt\u001b[0m: "
     ]
    }
   ],
   "source": [
    "import pyautogui as pg\n",
    "import pyperclip as pc\n",
    "import time as tm\n",
    "\n",
    "#Pré-set: 2 Earth Dragons prontos pro Hatch na esquerda\n",
    "#         APENAS 1 espaço livre no Kindergarden e 1 no Hatchery\n",
    "#IMPORTANTE: Calibragem no zoom 4, mas dando PLACE NO HATCHERY\n",
    "\n",
    "#Tempo estimado: 15 segundos/5 pontos\n",
    "\n",
    "pg.PAUSE = 0.5\n",
    "tm.sleep(5)\n",
    "#Comprar\n",
    "pg.click(x=678, y=380)\n",
    "tm.sleep(0.3)\n",
    "pg.click(x=470, y=652)\n",
    "pg.click(x=470, y=652)\n",
    "pg.click(x=859, y=683)\n",
    "pg.click(x=859, y=683)\n",
    "pg.click(x=178, y=386)\n",
    "pg.click(x=178, y=386)\n",
    "pg.moveTo(x=572, y=630)\n",
    "pg.click(x=572, y=630)\n",
    "tm.sleep(0.4)\n",
    "pg.click(x=572, y=630)\n",
    "\n",
    "k = 0\n",
    "while k < 100000:\n",
    "    #Posicionar\n",
    "    tm.sleep(0.1)\n",
    "    pg.click(x=738, y=520)\n",
    "    pg.click(x=738, y=520)\n",
    "    tm.sleep(0.4)\n",
    "    #INTERMITENTE: Apenas até completar a atualização do Kindergarden. Após, eliminar as linhas e voltar com o de baixo\n",
    "    pg.moveTo(x=641, y=367)\n",
    "    #pg.click(x=1053, y=337)\n",
    "    #pg.click(x=1053, y=337)\n",
    "    pg.doubleClick(x=641, y=367)\n",
    "    \n",
    "    #Vender\n",
    "    tm.sleep(0.15)\n",
    "    pg.moveTo(x=832, y=661)\n",
    "    pg.doubleClick(x=832, y=661)\n",
    "    pg.click(x=832, y=661)\n",
    "    tm.sleep(0.01)\n",
    "    pg.moveTo(x=1222, y=689)\n",
    "    pg.click(x=1222, y=689)\n",
    "    tm.sleep(0.05)\n",
    "    pg.moveTo(x=763, y=499)\n",
    "    pg.click(x=763, y=499)\n",
    "    \n",
    "    #Comprar\n",
    "    tm.sleep(0.6)\n",
    "    #INTERMITENTE: Apenas até completar a atualização do Kindergarden. Após, eliminar as linhas e voltar com o de baixo\n",
    "    pg.moveTo(x=983, y=328)\n",
    "    pg.click(x=983, y=328)\n",
    "    pg.click(x=983, y=328)\n",
    "    #pg.click(x=987, y=311)\n",
    "    #pg.click(x=987, y=311)\n",
    "    #Clique pra fechar o anúncio, desativado por autoclose em 00:00:00\n",
    "    pg.moveTo(x=1088, y=95)\n",
    "    pg.click(x=1088, y=95)\n",
    "    tm.sleep(0.1)\n",
    "    pg.moveTo(x=516, y=652)\n",
    "    pg.click(x=516, y=652)\n",
    "    tm.sleep(0.3)\n",
    "    pg.moveTo(x=859, y=683)\n",
    "    pg.click(x=859, y=683)\n",
    "    pg.click(x=178, y=386)\n",
    "    pg.click(x=178, y=386)\n",
    "    pg.moveTo(x=572, y=630)\n",
    "    pg.click(x=572, y=630)\n",
    "    tm.sleep(0.4)\n",
    "    pg.click(x=572, y=630)\n",
    "    k += 1\n",
    "#pg.hotkey(\"Alt\",\"F4\")"
   ]
  },
  {
   "cell_type": "code",
   "execution_count": 42,
   "id": "72ceba12",
   "metadata": {},
   "outputs": [
    {
     "data": {
      "text/plain": [
       "Point(x=516, y=652)"
      ]
     },
     "execution_count": 42,
     "metadata": {},
     "output_type": "execute_result"
    }
   ],
   "source": [
    "tm.sleep(6)\n",
    "pg.position()"
   ]
  },
  {
   "cell_type": "code",
   "execution_count": 131,
   "id": "5499748b",
   "metadata": {},
   "outputs": [],
   "source": [
    "    pg.PAUSE = 1.9\n",
    "    tm.sleep(4)\n",
    "     #Posicionar\n",
    "    pg.click(x=470, y=652)\n",
    "    pg.click(x=470, y=652)\n",
    "    pg.click(x=859, y=683)\n",
    "    pg.click(x=859, y=683)\n",
    "    pg.click(x=140, y=573)\n",
    "\n"
   ]
  },
  {
   "cell_type": "code",
   "execution_count": 105,
   "id": "a12e6834",
   "metadata": {},
   "outputs": [],
   "source": [
    "#Terceiro Slot de dragão da direita pra esquerda\n",
    "\n",
    "\n",
    "#Box(left=318, top=631, width=68, height=65)\n",
    "#Box(left=433, top=631, width=68, height=56)\n",
    "#Box(left=552, top=631, width=76, height=46)\n",
    "#Box(left=674, top=630, width=58, height=64)\n",
    "#Box(left=796, top=627, width=73, height=68)"
   ]
  },
  {
   "cell_type": "code",
   "execution_count": 48,
   "id": "a96de213",
   "metadata": {},
   "outputs": [
    {
     "name": "stdout",
     "output_type": "stream",
     "text": [
      "None\n"
     ]
    }
   ],
   "source": [
    "tm.sleep(4)\n",
    "pg.moveTo(x=516, y=652)"
   ]
  },
  {
   "cell_type": "code",
   "execution_count": 4,
   "id": "a9a28345",
   "metadata": {},
   "outputs": [
    {
     "ename": "AttributeError",
     "evalue": "module 'pyautogui' has no attribute 'left'",
     "output_type": "error",
     "traceback": [
      "\u001b[1;31m---------------------------------------------------------------------------\u001b[0m",
      "\u001b[1;31mAttributeError\u001b[0m                            Traceback (most recent call last)",
      "Input \u001b[1;32mIn [4]\u001b[0m, in \u001b[0;36m<cell line: 5>\u001b[1;34m()\u001b[0m\n\u001b[0;32m      3\u001b[0m tm\u001b[38;5;241m.\u001b[39msleep(\u001b[38;5;241m4\u001b[39m)\n\u001b[0;32m      4\u001b[0m x1 \u001b[38;5;241m=\u001b[39m pg\u001b[38;5;241m.\u001b[39mlocateOnScreen(\u001b[38;5;124mr\u001b[39m\u001b[38;5;124m\"\u001b[39m\u001b[38;5;124mC:\u001b[39m\u001b[38;5;124m\\\u001b[39m\u001b[38;5;124mUsers\u001b[39m\u001b[38;5;124m\\\u001b[39m\u001b[38;5;124muser\u001b[39m\u001b[38;5;124m\\\u001b[39m\u001b[38;5;124mDesktop\u001b[39m\u001b[38;5;124m\\\u001b[39m\u001b[38;5;124mFelipe\u001b[39m\u001b[38;5;124m\\\u001b[39m\u001b[38;5;124mJupyter\u001b[39m\u001b[38;5;124m\\\u001b[39m\u001b[38;5;124mPNGs\u001b[39m\u001b[38;5;124m\\\u001b[39m\u001b[38;5;124mGreenhouse.png\u001b[39m\u001b[38;5;124m\"\u001b[39m,confidence\u001b[38;5;241m=\u001b[39m\u001b[38;5;241m0.8\u001b[39m)\n\u001b[1;32m----> 5\u001b[0m x2 \u001b[38;5;241m=\u001b[39m \u001b[43mpg\u001b[49m\u001b[38;5;241;43m.\u001b[39;49m\u001b[43mleft\u001b[49m(x1)\n\u001b[0;32m      6\u001b[0m pg\u001b[38;5;241m.\u001b[39mmoveTo(x1)\n\u001b[0;32m      7\u001b[0m \u001b[38;5;28mprint\u001b[39m(x2\u001b[38;5;241m.\u001b[39mx)\n",
      "\u001b[1;31mAttributeError\u001b[0m: module 'pyautogui' has no attribute 'left'"
     ]
    }
   ],
   "source": [
    "import time as tm\n",
    "import pyautogui as pg\n",
    "tm.sleep(4)\n",
    "x1 = pg.locateOnScreen(r\"C:\\Users\\user\\Desktop\\Felipe\\Jupyter\\PNGs\\Greenhouse.png\",confidence=0.8)\n",
    "x2 = pg.(x1)\n",
    "pg.moveTo(x1)\n",
    "print(x2.x)"
   ]
  },
  {
   "cell_type": "code",
   "execution_count": null,
   "id": "061137ba",
   "metadata": {},
   "outputs": [],
   "source": []
  }
 ],
 "metadata": {
  "kernelspec": {
   "display_name": "Python 3 (ipykernel)",
   "language": "python",
   "name": "python3"
  },
  "language_info": {
   "codemirror_mode": {
    "name": "ipython",
    "version": 3
   },
   "file_extension": ".py",
   "mimetype": "text/x-python",
   "name": "python",
   "nbconvert_exporter": "python",
   "pygments_lexer": "ipython3",
   "version": "3.9.12"
  }
 },
 "nbformat": 4,
 "nbformat_minor": 5
}
