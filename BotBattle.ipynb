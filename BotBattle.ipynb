{
 "cells": [
  {
   "cell_type": "code",
   "execution_count": 4,
   "id": "d1767b44",
   "metadata": {},
   "outputs": [],
   "source": [
    "import pyautogui as pg\n",
    "import time as tm\n",
    "\n",
    "x = None\n",
    "while x == None:\n",
    "    x = pg.locateOnScreen(r\"C:\\Users\\user\\Desktop\\Felipe\\Jupyter\\PNGs\\NextBattle.png\", grayscale=True, confidence=0.76)\n",
    "x2 = pg.center(x)\n",
    "xReturn = x.left + x.width * 0.5\n",
    "yReturn = x2.y - x.height * 2.6\n",
    "pg.moveTo(xReturn, yReturn)\n",
    "while x != None:\n",
    "    x = pg.locateOnScreen(r\"C:\\Users\\user\\Desktop\\Felipe\\Jupyter\\PNGs\\NextBattle.png\", grayscale=True, confidence=0.76)\n",
    "pg.click(xReturn, yReturn)\n",
    "verify = False\n",
    "while verify == False:\n",
    "    x2 = None\n",
    "    while x2 == None:\n",
    "        x2 = pg.locateOnScreen(r\"C:\\Users\\user\\Desktop\\Felipe\\Jupyter\\PNGs\\GoToBattle.png\", grayscale=False, confidence=0.86)\n",
    "    pg.moveTo(x2)\n",
    "    pg.click(x2)\n",
    "    x2 = pg.locateOnScreen(r\"C:\\Users\\user\\Desktop\\Felipe\\Jupyter\\PNGs\\GoToBattle.png\", grayscale=False, confidence=0.86)\n",
    "    if x2 == None:\n",
    "        verify = True\n",
    "    x2 = None\n",
    "verify = False\n",
    "while verify == False:\n",
    "    while x2 == None:\n",
    "        x2 = pg.locateOnScreen(r\"C:\\Users\\user\\Desktop\\Felipe\\Jupyter\\PNGs\\GoToBattle2.png\", grayscale=False, confidence=0.86)\n",
    "    pg.moveTo(x2)\n",
    "    pg.click(x2)\n",
    "    x2 = pg.locateOnScreen(r\"C:\\Users\\user\\Desktop\\Felipe\\Jupyter\\PNGs\\GoToBattle2.png\", grayscale=False, confidence=0.86)\n",
    "    if x2 == None:\n",
    "        verify = True\n",
    "    x2 = None\n",
    "\n",
    "x2 = None\n",
    "while x2 == None:\n",
    "    x2 = pg.locateOnScreen(r\"C:\\Users\\user\\Desktop\\Felipe\\Jupyter\\PNGs\\Swap.png\", grayscale=True, confidence=0.76)\n",
    "pg.moveTo(x2)\n",
    "pg.click(x2)\n",
    "x2 = None\n",
    "while x2 == None:\n",
    "    x2 = pg.locateOnScreen(r\"C:\\Users\\user\\Desktop\\Felipe\\Jupyter\\PNGs\\SelectDragon.png\", grayscale=True, confidence=0.76)\n",
    "pg.moveTo(x2)\n",
    "pg.click(x2)\n",
    "x3 = None\n",
    "x2 = None\n",
    "while x3 == None:\n",
    "    x3 = pg.locateOnScreen(r\"C:\\Users\\user\\Desktop\\Felipe\\Jupyter\\PNGs\\Victory.png\", grayscale=True, confidence=0.76)\n",
    "    while x2 == None and x3 == None:\n",
    "        x2 = pg.locateOnScreen(r\"C:\\Users\\user\\Desktop\\Felipe\\Jupyter\\PNGs\\Golpe1.png\", grayscale=True, confidence=0.76)\n",
    "        if x2 == None:\n",
    "            x3 = pg.locateOnScreen(r\"C:\\Users\\user\\Desktop\\Felipe\\Jupyter\\PNGs\\Victory.png\", grayscale=True, confidence=0.76)\n",
    "        else:\n",
    "            pg.moveTo(x2)\n",
    "            pg.click(x2)\n"
   ]
  },
  {
   "cell_type": "code",
   "execution_count": 19,
   "id": "767948ea",
   "metadata": {},
   "outputs": [],
   "source": [
    "x2 = None\n",
    "while x2 == None:\n",
    "    x2 = pg.locateOnScreen(r\"C:\\Users\\user\\Desktop\\Felipe\\Jupyter\\PNGs\\GoToBattle.png\", grayscale=False, confidence=0.86)\n",
    "pg.moveTo(x2)"
   ]
  },
  {
   "cell_type": "code",
   "execution_count": null,
   "id": "f2df7581",
   "metadata": {},
   "outputs": [],
   "source": []
  }
 ],
 "metadata": {
  "kernelspec": {
   "display_name": "Python 3 (ipykernel)",
   "language": "python",
   "name": "python3"
  },
  "language_info": {
   "codemirror_mode": {
    "name": "ipython",
    "version": 3
   },
   "file_extension": ".py",
   "mimetype": "text/x-python",
   "name": "python",
   "nbconvert_exporter": "python",
   "pygments_lexer": "ipython3",
   "version": "3.9.12"
  }
 },
 "nbformat": 4,
 "nbformat_minor": 5
}
