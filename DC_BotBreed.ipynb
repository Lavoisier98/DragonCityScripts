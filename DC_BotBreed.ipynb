{
 "cells": [
  {
   "cell_type": "code",
   "execution_count": 1,
   "id": "502848f6",
   "metadata": {
    "scrolled": false
   },
   "outputs": [
    {
     "ename": "FailSafeException",
     "evalue": "PyAutoGUI fail-safe triggered from mouse moving to a corner of the screen. To disable this fail-safe, set pyautogui.FAILSAFE to False. DISABLING FAIL-SAFE IS NOT RECOMMENDED.",
     "output_type": "error",
     "traceback": [
      "\u001b[1;31m---------------------------------------------------------------------------\u001b[0m",
      "\u001b[1;31mFailSafeException\u001b[0m                         Traceback (most recent call last)",
      "Input \u001b[1;32mIn [1]\u001b[0m, in \u001b[0;36m<cell line: 15>\u001b[1;34m()\u001b[0m\n\u001b[0;32m     12\u001b[0m k \u001b[38;5;241m=\u001b[39m \u001b[38;5;241m0\u001b[39m\n\u001b[0;32m     13\u001b[0m \u001b[38;5;28;01mwhile\u001b[39;00m \u001b[38;5;28;01mTrue\u001b[39;00m: \u001b[38;5;66;03m#k < 10000:\u001b[39;00m\n\u001b[0;32m     14\u001b[0m     \u001b[38;5;66;03m#Vender dragons\u001b[39;00m\n\u001b[1;32m---> 15\u001b[0m     \u001b[43mpg\u001b[49m\u001b[38;5;241;43m.\u001b[39;49m\u001b[43mmoveTo\u001b[49m\u001b[43m(\u001b[49m\u001b[43mx\u001b[49m\u001b[38;5;241;43m=\u001b[39;49m\u001b[38;5;241;43m677\u001b[39;49m\u001b[43m,\u001b[49m\u001b[43m \u001b[49m\u001b[43my\u001b[49m\u001b[38;5;241;43m=\u001b[39;49m\u001b[38;5;241;43m387\u001b[39;49m\u001b[43m)\u001b[49m\n\u001b[0;32m     16\u001b[0m     pg\u001b[38;5;241m.\u001b[39mclick(x\u001b[38;5;241m=\u001b[39m\u001b[38;5;241m677\u001b[39m, y\u001b[38;5;241m=\u001b[39m\u001b[38;5;241m387\u001b[39m)\n\u001b[0;32m     17\u001b[0m     tm\u001b[38;5;241m.\u001b[39msleep(\u001b[38;5;241m0.7\u001b[39m)\n",
      "File \u001b[1;32mC:\\Program Files\\Python\\lib\\site-packages\\pyautogui\\__init__.py:597\u001b[0m, in \u001b[0;36m_genericPyAutoGUIChecks.<locals>.wrapper\u001b[1;34m(*args, **kwargs)\u001b[0m\n\u001b[0;32m    595\u001b[0m \u001b[38;5;129m@functools\u001b[39m\u001b[38;5;241m.\u001b[39mwraps(wrappedFunction)\n\u001b[0;32m    596\u001b[0m \u001b[38;5;28;01mdef\u001b[39;00m \u001b[38;5;21mwrapper\u001b[39m(\u001b[38;5;241m*\u001b[39margs, \u001b[38;5;241m*\u001b[39m\u001b[38;5;241m*\u001b[39mkwargs):\n\u001b[1;32m--> 597\u001b[0m     \u001b[43mfailSafeCheck\u001b[49m\u001b[43m(\u001b[49m\u001b[43m)\u001b[49m\n\u001b[0;32m    598\u001b[0m     returnVal \u001b[38;5;241m=\u001b[39m wrappedFunction(\u001b[38;5;241m*\u001b[39margs, \u001b[38;5;241m*\u001b[39m\u001b[38;5;241m*\u001b[39mkwargs)\n\u001b[0;32m    599\u001b[0m     _handlePause(kwargs\u001b[38;5;241m.\u001b[39mget(\u001b[38;5;124m\"\u001b[39m\u001b[38;5;124m_pause\u001b[39m\u001b[38;5;124m\"\u001b[39m, \u001b[38;5;28;01mTrue\u001b[39;00m))\n",
      "File \u001b[1;32mC:\\Program Files\\Python\\lib\\site-packages\\pyautogui\\__init__.py:1722\u001b[0m, in \u001b[0;36mfailSafeCheck\u001b[1;34m()\u001b[0m\n\u001b[0;32m   1720\u001b[0m \u001b[38;5;28;01mdef\u001b[39;00m \u001b[38;5;21mfailSafeCheck\u001b[39m():\n\u001b[0;32m   1721\u001b[0m     \u001b[38;5;28;01mif\u001b[39;00m FAILSAFE \u001b[38;5;129;01mand\u001b[39;00m \u001b[38;5;28mtuple\u001b[39m(position()) \u001b[38;5;129;01min\u001b[39;00m FAILSAFE_POINTS:\n\u001b[1;32m-> 1722\u001b[0m         \u001b[38;5;28;01mraise\u001b[39;00m FailSafeException(\n\u001b[0;32m   1723\u001b[0m             \u001b[38;5;124m\"\u001b[39m\u001b[38;5;124mPyAutoGUI fail-safe triggered from mouse moving to a corner of the screen. To disable this fail-safe, set pyautogui.FAILSAFE to False. DISABLING FAIL-SAFE IS NOT RECOMMENDED.\u001b[39m\u001b[38;5;124m\"\u001b[39m\n\u001b[0;32m   1724\u001b[0m         )\n",
      "\u001b[1;31mFailSafeException\u001b[0m: PyAutoGUI fail-safe triggered from mouse moving to a corner of the screen. To disable this fail-safe, set pyautogui.FAILSAFE to False. DISABLING FAIL-SAFE IS NOT RECOMMENDED."
     ]
    }
   ],
   "source": [
    "import pyautogui as pg\n",
    "import pyperclip as pc\n",
    "import time as tm\n",
    "\n",
    "#Tempo estimado: 26 segundos por vez\n",
    "#Pré-set: Afastar zoom até o mínimo e aproximar 4 vezes.\n",
    "#         Clicar em procriar uma vez e recolocar os Earth Dragons na procriação\n",
    "#         Deixar procriações pré-setadas com os Earth Dragons default\n",
    "#         Ter antes pelo menos dois espaços vazios, e encher a hatchery\n",
    "pg.PAUSE = 0.1\n",
    "tm.sleep(5)\n",
    "k = 0\n",
    "while True: #k < 10000:\n",
    "    #Vender dragons\n",
    "    pg.moveTo(x=677, y=387)\n",
    "    pg.click(x=677, y=387)\n",
    "    tm.sleep(0.7)\n",
    "    pg.moveTo(x=613, y=650)\n",
    "    pg.click(x=613, y=650)\n",
    "    tm.sleep(0.7)\n",
    "    pg.moveTo(x=923, y=524)\n",
    "    pg.click(x=923, y=524)\n",
    "    tm.sleep(0.7)\n",
    "    pg.moveTo(x=762, y=524)\n",
    "    pg.click(x=762, y=524)\n",
    "    tm.sleep(0.7)\n",
    "    pg.moveTo(x=677, y=387)\n",
    "    pg.click(x=677, y=387)\n",
    "    tm.sleep(0.7)\n",
    "    pg.moveTo(x=613, y=650)\n",
    "    pg.click(x=613, y=650)\n",
    "    #pg.moveTo(x=477, y=654)\n",
    "    #pg.click(x=477, y=654)\n",
    "    tm.sleep(0.7)\n",
    "    pg.moveTo(x=923, y=524)\n",
    "    pg.click(x=923, y=524)\n",
    "    tm.sleep(0.7)\n",
    "    pg.moveTo(x=762, y=524)\n",
    "    pg.click(x=762, y=524)\n",
    "    #Pegar procriações prontas\n",
    "    tm.sleep(1.9)\n",
    "    pg.moveTo(x=926, y=163)\n",
    "    pg.click(x=926, y=163)\n",
    "    pg.click(x=926, y=163)\n",
    "    tm.sleep(1.1)\n",
    "    pg.moveTo(x=860, y=386)\n",
    "    pg.click(x=860, y=386)\n",
    "    pg.click(x=860, y=386)\n",
    "    #Criar novas procriações na 1\n",
    "    tm.sleep(0.4)\n",
    "    pg.moveTo(x=994, y=292)\n",
    "    pg.click(x=994, y=292)\n",
    "    tm.sleep(1.3)\n",
    "    pg.moveTo(x=926, y=163)\n",
    "    pg.click(x=926, y=163, clicks=1)\n",
    "    tm.sleep(1.2)\n",
    "    pg.moveTo(x=1185, y=655)\n",
    "    pg.click(x=1185, y=655, clicks=1)\n",
    "    tm.sleep(1.14)\n",
    "    pg.moveTo(x=807, y=546)\n",
    "    pg.click(x=807, y=546, clicks=1)\n",
    "    tm.sleep(1.2)\n",
    "    pg.moveTo(x=1265, y=71)\n",
    "    pg.click(x=1265, y=71)\n",
    "    #Criar novas procriações na 2, pre-setado com clique no meio do nada inicialmente\n",
    "    pg.moveTo(x=994, y=292)\n",
    "    pg.click(x=994, y=292)\n",
    "    tm.sleep(1.7)\n",
    "    pg.moveTo(x=860, y=386)\n",
    "    pg.click(x=860, y=386)\n",
    "    tm.sleep(1.2)\n",
    "    pg.moveTo(x=1065, y=653)\n",
    "    pg.click(x=1065, y=653, clicks=1)\n",
    "    tm.sleep(1.2)\n",
    "    pg.moveTo(x=807, y=546)\n",
    "    pg.click(x=807, y=546, clicks=1)\n",
    "    tm.sleep(1.1)\n",
    "    pg.moveTo(x=1265, y=71)\n",
    "    pg.click(x=1265, y=71)\n",
    "    tm.sleep(2.2)\n",
    "    k += 1\n"
   ]
  },
  {
   "cell_type": "code",
   "execution_count": 143,
   "id": "f528cf61",
   "metadata": {},
   "outputs": [
    {
     "data": {
      "text/plain": [
       "Point(x=613, y=650)"
      ]
     },
     "execution_count": 143,
     "metadata": {},
     "output_type": "execute_result"
    }
   ],
   "source": [
    "tm.sleep(4)\n",
    "pg.position()"
   ]
  },
  {
   "cell_type": "code",
   "execution_count": 118,
   "id": "9d31c89b",
   "metadata": {},
   "outputs": [],
   "source": [
    "    pg.PAUSE = 0.5\n",
    "    tm.sleep(4)\n",
    "    pg.click(x=140, y=248)\n",
    "    pc.copy(\"Aldeído\")\n",
    "    pg.hotkey(\"Ctrl\",\"V\")\n",
    "    pg.press(\"Enter\")\n",
    "    pg.click(x=1215, y=250,clicks=3)\n",
    "    pc.copy(\"Bart\")\n",
    "    pg.hotkey(\"Ctrl\",\"V\")\n",
    "    pg.press(\"Enter\")\n",
    "    pg.click(x=955, y=264)\n",
    "    pg.click(x=175, y=397,clicks=3)\n",
    "    tm.sleep(0.5)\n",
    "    pg.click(x=955, y=264,clicks=2)\n",
    "    tm.sleep(0.5)\n",
    "    pg.click(x=1219, y=379)\n",
    "    pg.click(x=955, y=264)\n",
    "    pg.click(x=955, y=264)\n",
    "    pg.click(x=955, y=264)"
   ]
  },
  {
   "cell_type": "code",
   "execution_count": 10,
   "id": "72b28812",
   "metadata": {},
   "outputs": [],
   "source": [
    "tm.sleep(4)\n",
    "pg.moveTo(x=994, y=292)"
   ]
  },
  {
   "cell_type": "code",
   "execution_count": null,
   "id": "f1b3260f",
   "metadata": {},
   "outputs": [],
   "source": []
  }
 ],
 "metadata": {
  "kernelspec": {
   "display_name": "Python 3 (ipykernel)",
   "language": "python",
   "name": "python3"
  },
  "language_info": {
   "codemirror_mode": {
    "name": "ipython",
    "version": 3
   },
   "file_extension": ".py",
   "mimetype": "text/x-python",
   "name": "python",
   "nbconvert_exporter": "python",
   "pygments_lexer": "ipython3",
   "version": "3.9.12"
  }
 },
 "nbformat": 4,
 "nbformat_minor": 5
}
