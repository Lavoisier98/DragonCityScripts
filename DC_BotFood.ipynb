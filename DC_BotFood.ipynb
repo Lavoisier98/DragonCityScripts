{
 "cells": [
  {
   "cell_type": "code",
   "execution_count": 1,
   "id": "6e733993",
   "metadata": {},
   "outputs": [
    {
     "ename": "FailSafeException",
     "evalue": "PyAutoGUI fail-safe triggered from mouse moving to a corner of the screen. To disable this fail-safe, set pyautogui.FAILSAFE to False. DISABLING FAIL-SAFE IS NOT RECOMMENDED.",
     "output_type": "error",
     "traceback": [
      "\u001b[1;31m---------------------------------------------------------------------------\u001b[0m",
      "\u001b[1;31mFailSafeException\u001b[0m                         Traceback (most recent call last)",
      "Input \u001b[1;32mIn [1]\u001b[0m, in \u001b[0;36m<cell line: 13>\u001b[1;34m()\u001b[0m\n\u001b[0;32m     56\u001b[0m k2 \u001b[38;5;241m=\u001b[39m \u001b[38;5;241m0\u001b[39m\n\u001b[0;32m     57\u001b[0m \u001b[38;5;28;01mwhile\u001b[39;00m k2 \u001b[38;5;241m<\u001b[39m \u001b[38;5;241m27\u001b[39m:\n\u001b[1;32m---> 58\u001b[0m     \u001b[43mpg\u001b[49m\u001b[38;5;241;43m.\u001b[39;49m\u001b[43mclick\u001b[49m\u001b[43m(\u001b[49m\u001b[43mx\u001b[49m\u001b[38;5;241;43m=\u001b[39;49m\u001b[38;5;241;43m1071\u001b[39;49m\u001b[43m,\u001b[49m\u001b[43m \u001b[49m\u001b[43my\u001b[49m\u001b[38;5;241;43m=\u001b[39;49m\u001b[38;5;241;43m653\u001b[39;49m\u001b[43m)\u001b[49m\n\u001b[0;32m     59\u001b[0m     tm\u001b[38;5;241m.\u001b[39msleep(\u001b[38;5;241m0.85\u001b[39m)\n\u001b[0;32m     60\u001b[0m     k2 \u001b[38;5;241m+\u001b[39m\u001b[38;5;241m=\u001b[39m \u001b[38;5;241m1\u001b[39m\n",
      "File \u001b[1;32mC:\\Program Files\\Python\\lib\\site-packages\\pyautogui\\__init__.py:597\u001b[0m, in \u001b[0;36m_genericPyAutoGUIChecks.<locals>.wrapper\u001b[1;34m(*args, **kwargs)\u001b[0m\n\u001b[0;32m    595\u001b[0m \u001b[38;5;129m@functools\u001b[39m\u001b[38;5;241m.\u001b[39mwraps(wrappedFunction)\n\u001b[0;32m    596\u001b[0m \u001b[38;5;28;01mdef\u001b[39;00m \u001b[38;5;21mwrapper\u001b[39m(\u001b[38;5;241m*\u001b[39margs, \u001b[38;5;241m*\u001b[39m\u001b[38;5;241m*\u001b[39mkwargs):\n\u001b[1;32m--> 597\u001b[0m     \u001b[43mfailSafeCheck\u001b[49m\u001b[43m(\u001b[49m\u001b[43m)\u001b[49m\n\u001b[0;32m    598\u001b[0m     returnVal \u001b[38;5;241m=\u001b[39m wrappedFunction(\u001b[38;5;241m*\u001b[39margs, \u001b[38;5;241m*\u001b[39m\u001b[38;5;241m*\u001b[39mkwargs)\n\u001b[0;32m    599\u001b[0m     _handlePause(kwargs\u001b[38;5;241m.\u001b[39mget(\u001b[38;5;124m\"\u001b[39m\u001b[38;5;124m_pause\u001b[39m\u001b[38;5;124m\"\u001b[39m, \u001b[38;5;28;01mTrue\u001b[39;00m))\n",
      "File \u001b[1;32mC:\\Program Files\\Python\\lib\\site-packages\\pyautogui\\__init__.py:1722\u001b[0m, in \u001b[0;36mfailSafeCheck\u001b[1;34m()\u001b[0m\n\u001b[0;32m   1720\u001b[0m \u001b[38;5;28;01mdef\u001b[39;00m \u001b[38;5;21mfailSafeCheck\u001b[39m():\n\u001b[0;32m   1721\u001b[0m     \u001b[38;5;28;01mif\u001b[39;00m FAILSAFE \u001b[38;5;129;01mand\u001b[39;00m \u001b[38;5;28mtuple\u001b[39m(position()) \u001b[38;5;129;01min\u001b[39;00m FAILSAFE_POINTS:\n\u001b[1;32m-> 1722\u001b[0m         \u001b[38;5;28;01mraise\u001b[39;00m FailSafeException(\n\u001b[0;32m   1723\u001b[0m             \u001b[38;5;124m\"\u001b[39m\u001b[38;5;124mPyAutoGUI fail-safe triggered from mouse moving to a corner of the screen. To disable this fail-safe, set pyautogui.FAILSAFE to False. DISABLING FAIL-SAFE IS NOT RECOMMENDED.\u001b[39m\u001b[38;5;124m\"\u001b[39m\n\u001b[0;32m   1724\u001b[0m         )\n",
      "\u001b[1;31mFailSafeException\u001b[0m: PyAutoGUI fail-safe triggered from mouse moving to a corner of the screen. To disable this fail-safe, set pyautogui.FAILSAFE to False. DISABLING FAIL-SAFE IS NOT RECOMMENDED."
     ]
    }
   ],
   "source": [
    "import pyautogui as pg\n",
    "import pyperclip as pc\n",
    "import time as tm\n",
    "\n",
    "#Pré-Set: Calibragem dando Breed no Zoom 4\n",
    "          #Foods pré-setadas de 30 segundos já prontas pra colher\n",
    "          #Estufa sem o balão de coleta\n",
    "\n",
    "pg.PAUSE = 0.15\n",
    "tm.sleep(5)\n",
    "k = 0\n",
    "k2 = 0\n",
    "while k < 100000:\n",
    "    #coletar tudo\n",
    "    pg.click(x=407, y=406)\n",
    "    pg.click(x=446, y=385)\n",
    "    pg.click(x=487, y=369)\n",
    "    #pg.click(x=514, y=561)\n",
    "    pg.click(x=500, y=314)\n",
    "    pg.click(x=541, y=298)\n",
    "    pg.click(x=419, y=314)\n",
    "    pg.click(x=461, y=291)\n",
    "    pg.click(x=499, y=276)\n",
    "    pg.click(x=546, y=352)\n",
    "    \n",
    "    pg.click(x=471, y=314)\n",
    "    pg.click(x=471, y=314)\n",
    "    pg.click(x=351, y=378)\n",
    "    pg.click(x=351, y=378)\n",
    "    pg.click(x=389, y=355)\n",
    "    pg.click(x=389, y=355)\n",
    "    pg.click(x=432, y=334)\n",
    "    pg.click(x=432, y=334)\n",
    "    pg.click(x=468, y=311)\n",
    "    pg.click(x=468, y=311)\n",
    "    \n",
    "    #refazer coleta de fazenda\n",
    "    tm.sleep(0.65)\n",
    "    pg.moveTo(x=405, y=478)\n",
    "    pg.click(x=405, y=478)\n",
    "    pg.click(x=405, y=478)\n",
    "    tm.sleep(0.35)\n",
    "    pg.moveTo(x=405, y=478)\n",
    "    pg.click(x=830, y=652)\n",
    "    pg.click(x=830, y=652)\n",
    "    \n",
    "    #coletar continuamente na estufa\n",
    "    tm.sleep(0.5)\n",
    "    pg.click(x=409, y=485)\n",
    "    pg.click(x=409, y=485)\n",
    "    pg.click(x=834, y=652)\n",
    "    pg.click(x=834, y=652)\n",
    "    pg.click(x=751, y=503)\n",
    "    pg.click(x=751, y=503)\n",
    "    tm.sleep(0.3)\n",
    "    k2 = 0\n",
    "    while k2 < 27:\n",
    "        pg.click(x=1071, y=653)\n",
    "        tm.sleep(0.85)\n",
    "        k2 += 1\n",
    "    k += 1\n",
    "pg.click(x=1088, y=92)\n"
   ]
  },
  {
   "cell_type": "code",
   "execution_count": 87,
   "id": "6af321a6",
   "metadata": {},
   "outputs": [
    {
     "data": {
      "text/plain": [
       "Point(x=1088, y=92)"
      ]
     },
     "execution_count": 87,
     "metadata": {},
     "output_type": "execute_result"
    }
   ],
   "source": [
    "tm.sleep(4)\n",
    "pg.position()"
   ]
  },
  {
   "cell_type": "code",
   "execution_count": null,
   "id": "44110816",
   "metadata": {},
   "outputs": [],
   "source": []
  }
 ],
 "metadata": {
  "kernelspec": {
   "display_name": "Python 3 (ipykernel)",
   "language": "python",
   "name": "python3"
  },
  "language_info": {
   "codemirror_mode": {
    "name": "ipython",
    "version": 3
   },
   "file_extension": ".py",
   "mimetype": "text/x-python",
   "name": "python",
   "nbconvert_exporter": "python",
   "pygments_lexer": "ipython3",
   "version": "3.9.12"
  }
 },
 "nbformat": 4,
 "nbformat_minor": 5
}
