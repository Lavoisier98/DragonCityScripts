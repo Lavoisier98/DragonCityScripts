{
 "cells": [
  {
   "cell_type": "code",
   "execution_count": 1,
   "id": "35c46de6",
   "metadata": {},
   "outputs": [
    {
     "ename": "FailSafeException",
     "evalue": "PyAutoGUI fail-safe triggered from mouse moving to a corner of the screen. To disable this fail-safe, set pyautogui.FAILSAFE to False. DISABLING FAIL-SAFE IS NOT RECOMMENDED.",
     "output_type": "error",
     "traceback": [
      "\u001b[1;31m---------------------------------------------------------------------------\u001b[0m",
      "\u001b[1;31mFailSafeException\u001b[0m                         Traceback (most recent call last)",
      "Input \u001b[1;32mIn [1]\u001b[0m, in \u001b[0;36m<cell line: 8>\u001b[1;34m()\u001b[0m\n\u001b[0;32m     99\u001b[0m         x2 \u001b[38;5;241m=\u001b[39m pg\u001b[38;5;241m.\u001b[39mlocateOnScreen(\u001b[38;5;124mr\u001b[39m\u001b[38;5;124m\"\u001b[39m\u001b[38;5;124mC:\u001b[39m\u001b[38;5;124m\\\u001b[39m\u001b[38;5;124mUsers\u001b[39m\u001b[38;5;124m\\\u001b[39m\u001b[38;5;124muser\u001b[39m\u001b[38;5;124m\\\u001b[39m\u001b[38;5;124mDesktop\u001b[39m\u001b[38;5;124m\\\u001b[39m\u001b[38;5;124mFelipe\u001b[39m\u001b[38;5;124m\\\u001b[39m\u001b[38;5;124mJupyter\u001b[39m\u001b[38;5;124m\\\u001b[39m\u001b[38;5;124mPNGs\u001b[39m\u001b[38;5;124m\\\u001b[39m\u001b[38;5;124mCollect3.png\u001b[39m\u001b[38;5;124m\"\u001b[39m, grayscale\u001b[38;5;241m=\u001b[39m\u001b[38;5;28;01mTrue\u001b[39;00m, confidence\u001b[38;5;241m=\u001b[39m\u001b[38;5;241m0.8\u001b[39m)\n\u001b[0;32m    100\u001b[0m         \u001b[38;5;28;01mif\u001b[39;00m x2 \u001b[38;5;241m!=\u001b[39m \u001b[38;5;28;01mNone\u001b[39;00m:\n\u001b[1;32m--> 101\u001b[0m             \u001b[43mpg\u001b[49m\u001b[38;5;241;43m.\u001b[39;49m\u001b[43mmoveTo\u001b[49m\u001b[43m(\u001b[49m\u001b[43mx2\u001b[49m\u001b[43m)\u001b[49m\n\u001b[0;32m    102\u001b[0m             pg\u001b[38;5;241m.\u001b[39mclick(x2)\n\u001b[0;32m    103\u001b[0m k2 \u001b[38;5;241m+\u001b[39m\u001b[38;5;241m=\u001b[39m \u001b[38;5;241m1\u001b[39m\n",
      "File \u001b[1;32mC:\\Program Files\\Python\\lib\\site-packages\\pyautogui\\__init__.py:597\u001b[0m, in \u001b[0;36m_genericPyAutoGUIChecks.<locals>.wrapper\u001b[1;34m(*args, **kwargs)\u001b[0m\n\u001b[0;32m    595\u001b[0m \u001b[38;5;129m@functools\u001b[39m\u001b[38;5;241m.\u001b[39mwraps(wrappedFunction)\n\u001b[0;32m    596\u001b[0m \u001b[38;5;28;01mdef\u001b[39;00m \u001b[38;5;21mwrapper\u001b[39m(\u001b[38;5;241m*\u001b[39margs, \u001b[38;5;241m*\u001b[39m\u001b[38;5;241m*\u001b[39mkwargs):\n\u001b[1;32m--> 597\u001b[0m     \u001b[43mfailSafeCheck\u001b[49m\u001b[43m(\u001b[49m\u001b[43m)\u001b[49m\n\u001b[0;32m    598\u001b[0m     returnVal \u001b[38;5;241m=\u001b[39m wrappedFunction(\u001b[38;5;241m*\u001b[39margs, \u001b[38;5;241m*\u001b[39m\u001b[38;5;241m*\u001b[39mkwargs)\n\u001b[0;32m    599\u001b[0m     _handlePause(kwargs\u001b[38;5;241m.\u001b[39mget(\u001b[38;5;124m\"\u001b[39m\u001b[38;5;124m_pause\u001b[39m\u001b[38;5;124m\"\u001b[39m, \u001b[38;5;28;01mTrue\u001b[39;00m))\n",
      "File \u001b[1;32mC:\\Program Files\\Python\\lib\\site-packages\\pyautogui\\__init__.py:1722\u001b[0m, in \u001b[0;36mfailSafeCheck\u001b[1;34m()\u001b[0m\n\u001b[0;32m   1720\u001b[0m \u001b[38;5;28;01mdef\u001b[39;00m \u001b[38;5;21mfailSafeCheck\u001b[39m():\n\u001b[0;32m   1721\u001b[0m     \u001b[38;5;28;01mif\u001b[39;00m FAILSAFE \u001b[38;5;129;01mand\u001b[39;00m \u001b[38;5;28mtuple\u001b[39m(position()) \u001b[38;5;129;01min\u001b[39;00m FAILSAFE_POINTS:\n\u001b[1;32m-> 1722\u001b[0m         \u001b[38;5;28;01mraise\u001b[39;00m FailSafeException(\n\u001b[0;32m   1723\u001b[0m             \u001b[38;5;124m\"\u001b[39m\u001b[38;5;124mPyAutoGUI fail-safe triggered from mouse moving to a corner of the screen. To disable this fail-safe, set pyautogui.FAILSAFE to False. DISABLING FAIL-SAFE IS NOT RECOMMENDED.\u001b[39m\u001b[38;5;124m\"\u001b[39m\n\u001b[0;32m   1724\u001b[0m         )\n",
      "\u001b[1;31mFailSafeException\u001b[0m: PyAutoGUI fail-safe triggered from mouse moving to a corner of the screen. To disable this fail-safe, set pyautogui.FAILSAFE to False. DISABLING FAIL-SAFE IS NOT RECOMMENDED."
     ]
    }
   ],
   "source": [
    "import pyautogui as pg\n",
    "import time as tm\n",
    "\n",
    "#Pre-set: Greenhouse aparecendo na dela e DESOBSTRUÍDA COMPLETAMENTE\n",
    "tm.sleep(4)\n",
    "k2 = 0\n",
    "while True: #k2 < 100000:\n",
    "    verify2 = False\n",
    "    while verify2 == False:\n",
    "        #Clicar nas Farms prontas\n",
    "        k = 0\n",
    "        coletados = 0\n",
    "        verify = False\n",
    "        while verify == False:\n",
    "            x = pg.locateOnScreen(r\"C:\\Users\\user\\Desktop\\Felipe\\Jupyter\\PNGs\\Collect2.png\", grayscale=True, confidence=0.76)\n",
    "            if x == None:\n",
    "                y = pg.locateOnScreen(r\"C:\\Users\\user\\Desktop\\Felipe\\Jupyter\\PNGs\\Collect2b.png\", grayscale=True, confidence=0.76)\n",
    "            if x == None and y == None:\n",
    "                k += 1\n",
    "                if k > 1:\n",
    "                    verify = True\n",
    "            else:\n",
    "                if x != None:\n",
    "                    pg.moveTo(x)\n",
    "                    pg.click(x)\n",
    "                    coletados += 1\n",
    "                else:\n",
    "                    pg.moveTo(y)\n",
    "                    pg.click(y)\n",
    "                    coletados += 1\n",
    "                #if z != None:\n",
    "                #    pg.click(z)\n",
    "                #    coletados += 1\n",
    "                k = 0\n",
    "\n",
    "        #Regrow\n",
    "        verify = False\n",
    "        x = None\n",
    "        z = None\n",
    "        z2 = None\n",
    "        z3 = None\n",
    "        while x == None and z == None and z2 == None and z3 == None:\n",
    "            x = pg.locateOnScreen(r\"C:\\Users\\user\\Desktop\\Felipe\\Jupyter\\PNGs\\Farm2.png\", confidence=0.7)\n",
    "            #x = pg.locateOnScreen(r\"C:\\Users\\user\\Desktop\\Felipe\\Jupyter\\PNGs\\Farm.png\", confidence=0.7)\n",
    "            if x == None:\n",
    "                z = pg.locateOnScreen(r\"C:\\Users\\user\\Desktop\\Felipe\\Jupyter\\PNGs\\Regrow.png\", confidence=0.9)\n",
    "                if x == None and z == None:\n",
    "                    z2 = pg.locateOnScreen(r\"C:\\Users\\user\\Desktop\\Felipe\\Jupyter\\PNGs\\Collect2.png\", confidence=0.76)\n",
    "                    if z2 == None:  \n",
    "                        z3 = pg.locateOnScreen(r\"C:\\Users\\user\\Desktop\\Felipe\\Jupyter\\PNGs\\Collect2b.png\", confidence=0.76)\n",
    "        if x != None:\n",
    "            pg.moveTo(x)\n",
    "            pg.click(x)\n",
    "            xx = pg.locateOnScreen(r\"C:\\Users\\user\\Desktop\\Felipe\\Jupyter\\PNGs\\Erro1.png\", confidence=0.75)\n",
    "            if xx == None:\n",
    "                tm.sleep(0.25)\n",
    "                x = None\n",
    "                k = 0\n",
    "                while x == None and k < 3:\n",
    "                    x = pg.locateOnScreen(r\"C:\\Users\\user\\Desktop\\Felipe\\Jupyter\\PNGs\\Regrow.png\", confidence=0.9)\n",
    "                    if x == None:\n",
    "                        k += 1\n",
    "                    else:\n",
    "                        verify2 = True\n",
    "                        pg.moveTo(x)\n",
    "                        pg.click(x)\n",
    "            else:\n",
    "                verify2 = True\n",
    "        elif z != None:\n",
    "            verify2 = True\n",
    "            pg.moveTo(z)\n",
    "            pg.click(z)\n",
    "\n",
    "\n",
    "    #Primeiro click na greenhouse\n",
    "    verify = False\n",
    "    while verify == False:\n",
    "        x = pg.locateOnScreen(r\"C:\\Users\\user\\Desktop\\Felipe\\Jupyter\\PNGs\\Greenhouse.png\", confidence=0.75)\n",
    "        pg.moveTo(x)\n",
    "        pg.click(x)\n",
    "        x2 = None\n",
    "        k = 0\n",
    "        while (x2 == None and k < 10):\n",
    "            x2 = pg.locateOnScreen(r\"C:\\Users\\user\\Desktop\\Felipe\\Jupyter\\PNGs\\Collect1.png\", confidence=0.8)\n",
    "            k += 1\n",
    "        if x2 != None:\n",
    "            verify = True\n",
    "    pg.moveTo(x2)\n",
    "    pg.click(x2)\n",
    "\n",
    "    #Clicks contínuos na greenhouse\n",
    "    verify = False\n",
    "    while verify == False:\n",
    "        x = pg.locateOnScreen(r\"C:\\Users\\user\\Desktop\\Felipe\\Jupyter\\PNGs\\Collect2.png\", grayscale=True, confidence=0.8)\n",
    "        y = pg.locateOnScreen(r\"C:\\Users\\user\\Desktop\\Felipe\\Jupyter\\PNGs\\Collect2b.png\", grayscale=True, confidence=0.8)\n",
    "        if x != None or y != None:\n",
    "            verify = True\n",
    "        else:\n",
    "            x2 = pg.locateOnScreen(r\"C:\\Users\\user\\Desktop\\Felipe\\Jupyter\\PNGs\\Collect3.png\", grayscale=True, confidence=0.8)\n",
    "            if x2 != None:\n",
    "                pg.moveTo(x2)\n",
    "                pg.click(x2)\n",
    "    k2 += 1\n"
   ]
  },
  {
   "cell_type": "code",
   "execution_count": null,
   "id": "a269948d",
   "metadata": {},
   "outputs": [],
   "source": [
    "#Uso apenas para condicionais que demandem mais prints que os disponíveis. Lembre-se: Cada Locate pesará meio segundo no código\n",
    "import time as tm\n",
    "import pyautogui as pg\n",
    "\n",
    "tm.sleep(4)\n",
    "\n",
    "#Novo screenshot\n",
    "x = None\n",
    "x2 = None\n",
    "while x == None and x2 == None:\n",
    "    x = pg.locateOnScreen(r\"C:\\Users\\user\\Desktop\\Felipe\\Jupyter\\PNGs\\GoldReady.png\", confidence=0.8)\n",
    "    x2 = pg.locateOnScreen(r\"C:\\Users\\user\\Desktop\\Felipe\\Jupyter\\PNGs\\GoldReady2.png\", confidence=0.8)\n",
    "k = 0\n",
    "while x != None or x2 != None or x3 != None or x4 != None or x5 != None or x6 != None:\n",
    "    x = pg.locateOnScreen(r\"C:\\Users\\user\\Desktop\\Felipe\\Jupyter\\PNGs\\GoldReady.png\", grayscale=True, confidence=0.75)\n",
    "    x2 = pg.locateOnScreen(r\"C:\\Users\\user\\Desktop\\Felipe\\Jupyter\\PNGs\\GoldReady2.png\", grayscale=True, confidence=0.75)\n",
    "    #x3 = pg.locateOnScreen(r\"C:\\Users\\user\\Desktop\\Felipe\\Jupyter\\PNGs\\GoldReady3.png\", grayscale=True, confidence=0.75)\n",
    "    #x4 = pg.locateOnScreen(r\"C:\\Users\\user\\Desktop\\Felipe\\Jupyter\\PNGs\\GoldReady4.png\", grayscale=True, confidence=0.75)\n",
    "    #x5 = pg.locateOnScreen(r\"C:\\Users\\user\\Desktop\\Felipe\\Jupyter\\PNGs\\GoldReady5.png\", grayscale=True, confidence=0.75)\n",
    "    k += 1\n",
    "im1 = pg.screenshot(r\"C:\\Users\\user\\Desktop\\Felipe\\Jupyter\\PNGs\\GoldReady7.png\")\n",
    "#Quando ele achar um frame novo, move o mouse pro ícone de loja\n",
    "pg.moveTo(x=1286, y=649)\n",
    "print(k)\n",
    "display(im1)\n"
   ]
  },
  {
   "cell_type": "code",
   "execution_count": 8,
   "id": "3001c9ef",
   "metadata": {},
   "outputs": [
    {
     "data": {
      "text/plain": [
       "Point(x=713, y=749)"
      ]
     },
     "execution_count": 8,
     "metadata": {},
     "output_type": "execute_result"
    }
   ],
   "source": [
    "tm.sleep(5)\n",
    "pg.position()"
   ]
  },
  {
   "cell_type": "code",
   "execution_count": 17,
   "id": "bdb63995",
   "metadata": {},
   "outputs": [
    {
     "name": "stdout",
     "output_type": "stream",
     "text": [
      "<PIL.Image.Image image mode=RGB size=1360x768 at 0x2BA5EDD6790>\n"
     ]
    }
   ],
   "source": [
    "import cv2\n",
    "\n",
    "im = pg.screenshot()\n",
    "print(im)"
   ]
  },
  {
   "cell_type": "code",
   "execution_count": 8,
   "id": "8b98c494",
   "metadata": {},
   "outputs": [
    {
     "name": "stdout",
     "output_type": "stream",
     "text": [
      "Defaulting to user installation because normal site-packages is not writeable\n",
      "Collecting pytesseract\n",
      "  Downloading pytesseract-0.3.10-py3-none-any.whl (14 kB)\n",
      "Requirement already satisfied: packaging>=21.3 in c:\\program files\\python\\lib\\site-packages (from pytesseract) (21.3)\n",
      "Requirement already satisfied: Pillow>=8.0.0 in c:\\program files\\python\\lib\\site-packages (from pytesseract) (9.0.1)\n",
      "Requirement already satisfied: pyparsing!=3.0.5,>=2.0.2 in c:\\program files\\python\\lib\\site-packages (from packaging>=21.3->pytesseract) (3.0.4)\n",
      "Installing collected packages: pytesseract\n",
      "Successfully installed pytesseract-0.3.10\n",
      "Note: you may need to restart the kernel to use updated packages.\n"
     ]
    },
    {
     "name": "stderr",
     "output_type": "stream",
     "text": [
      "WARNING: Ignoring invalid distribution -pencv-python (c:\\users\\user\\appdata\\roaming\\python\\python39\\site-packages)\n",
      "WARNING: Ignoring invalid distribution -pencv-python (c:\\users\\user\\appdata\\roaming\\python\\python39\\site-packages)\n",
      "WARNING: Ignoring invalid distribution -pencv-python (c:\\users\\user\\appdata\\roaming\\python\\python39\\site-packages)\n",
      "  WARNING: The script pytesseract.exe is installed in 'C:\\Users\\user\\AppData\\Roaming\\Python\\Python39\\Scripts' which is not on PATH.\n",
      "  Consider adding this directory to PATH or, if you prefer to suppress this warning, use --no-warn-script-location.\n",
      "WARNING: Ignoring invalid distribution -pencv-python (c:\\users\\user\\appdata\\roaming\\python\\python39\\site-packages)\n",
      "WARNING: Ignoring invalid distribution -pencv-python (c:\\users\\user\\appdata\\roaming\\python\\python39\\site-packages)\n",
      "WARNING: Ignoring invalid distribution -pencv-python (c:\\users\\user\\appdata\\roaming\\python\\python39\\site-packages)\n",
      "WARNING: Ignoring invalid distribution -pencv-python (c:\\users\\user\\appdata\\roaming\\python\\python39\\site-packages)\n"
     ]
    }
   ],
   "source": [
    "pip install pytesseract"
   ]
  },
  {
   "cell_type": "code",
   "execution_count": null,
   "id": "e8e04e2f",
   "metadata": {},
   "outputs": [],
   "source": []
  }
 ],
 "metadata": {
  "kernelspec": {
   "display_name": "Python 3 (ipykernel)",
   "language": "python",
   "name": "python3"
  },
  "language_info": {
   "codemirror_mode": {
    "name": "ipython",
    "version": 3
   },
   "file_extension": ".py",
   "mimetype": "text/x-python",
   "name": "python",
   "nbconvert_exporter": "python",
   "pygments_lexer": "ipython3",
   "version": "3.9.12"
  }
 },
 "nbformat": 4,
 "nbformat_minor": 5
}
