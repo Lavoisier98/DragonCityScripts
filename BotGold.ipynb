{
 "cells": [
  {
   "cell_type": "code",
   "execution_count": 88,
   "id": "3a8d5969",
   "metadata": {},
   "outputs": [
    {
     "ename": "KeyboardInterrupt",
     "evalue": "",
     "output_type": "error",
     "traceback": [
      "\u001b[1;31m---------------------------------------------------------------------------\u001b[0m",
      "\u001b[1;31mKeyboardInterrupt\u001b[0m                         Traceback (most recent call last)",
      "Input \u001b[1;32mIn [88]\u001b[0m, in \u001b[0;36m<cell line: 6>\u001b[1;34m()\u001b[0m\n\u001b[0;32m     21\u001b[0m \u001b[38;5;28;01mwhile\u001b[39;00m f \u001b[38;5;241m==\u001b[39m \u001b[38;5;28;01mNone\u001b[39;00m \u001b[38;5;129;01mand\u001b[39;00m f2 \u001b[38;5;241m==\u001b[39m \u001b[38;5;28;01mNone\u001b[39;00m:\n\u001b[0;32m     22\u001b[0m     f \u001b[38;5;241m=\u001b[39m pg\u001b[38;5;241m.\u001b[39mlocateOnScreen(\u001b[38;5;124mr\u001b[39m\u001b[38;5;124m\"\u001b[39m\u001b[38;5;124mC:\u001b[39m\u001b[38;5;124m\\\u001b[39m\u001b[38;5;124mUsers\u001b[39m\u001b[38;5;124m\\\u001b[39m\u001b[38;5;124muser\u001b[39m\u001b[38;5;124m\\\u001b[39m\u001b[38;5;124mDesktop\u001b[39m\u001b[38;5;124m\\\u001b[39m\u001b[38;5;124mFelipe\u001b[39m\u001b[38;5;124m\\\u001b[39m\u001b[38;5;124mJupyter\u001b[39m\u001b[38;5;124m\\\u001b[39m\u001b[38;5;124mPNGs\u001b[39m\u001b[38;5;124m\\\u001b[39m\u001b[38;5;124mGoldReady.png\u001b[39m\u001b[38;5;124m\"\u001b[39m, grayscale\u001b[38;5;241m=\u001b[39m\u001b[38;5;28;01mTrue\u001b[39;00m, confidence\u001b[38;5;241m=\u001b[39m\u001b[38;5;241m0.8\u001b[39m)\n\u001b[1;32m---> 23\u001b[0m     f2 \u001b[38;5;241m=\u001b[39m \u001b[43mpg\u001b[49m\u001b[38;5;241;43m.\u001b[39;49m\u001b[43mlocateOnScreen\u001b[49m\u001b[43m(\u001b[49m\u001b[38;5;124;43mr\u001b[39;49m\u001b[38;5;124;43m\"\u001b[39;49m\u001b[38;5;124;43mC:\u001b[39;49m\u001b[38;5;124;43m\\\u001b[39;49m\u001b[38;5;124;43mUsers\u001b[39;49m\u001b[38;5;124;43m\\\u001b[39;49m\u001b[38;5;124;43muser\u001b[39;49m\u001b[38;5;124;43m\\\u001b[39;49m\u001b[38;5;124;43mDesktop\u001b[39;49m\u001b[38;5;124;43m\\\u001b[39;49m\u001b[38;5;124;43mFelipe\u001b[39;49m\u001b[38;5;124;43m\\\u001b[39;49m\u001b[38;5;124;43mJupyter\u001b[39;49m\u001b[38;5;124;43m\\\u001b[39;49m\u001b[38;5;124;43mPNGs\u001b[39;49m\u001b[38;5;124;43m\\\u001b[39;49m\u001b[38;5;124;43mGoldReady2.png\u001b[39;49m\u001b[38;5;124;43m\"\u001b[39;49m\u001b[43m,\u001b[49m\u001b[43m \u001b[49m\u001b[43mgrayscale\u001b[49m\u001b[38;5;241;43m=\u001b[39;49m\u001b[38;5;28;43;01mTrue\u001b[39;49;00m\u001b[43m,\u001b[49m\u001b[43m \u001b[49m\u001b[43mconfidence\u001b[49m\u001b[38;5;241;43m=\u001b[39;49m\u001b[38;5;241;43m0.8\u001b[39;49m\u001b[43m)\u001b[49m\n\u001b[0;32m     24\u001b[0m \u001b[38;5;66;03m#print(\"Figura 1: \", f.top, \"  \", f.height, \"  \", f.left, \"  \", f.width)\u001b[39;00m\n\u001b[0;32m     25\u001b[0m \u001b[38;5;66;03m#print(\"Figura 2: \", f2.top, \"  \", f2.height, \"  \", f2.left, \"  \", f2.width)\u001b[39;00m\n\u001b[0;32m     26\u001b[0m \u001b[38;5;66;03m#Coletar com sensor calibrado e limites aplicados\u001b[39;00m\n\u001b[0;32m     27\u001b[0m \u001b[38;5;28;01mwhile\u001b[39;00m f \u001b[38;5;241m!=\u001b[39m \u001b[38;5;28;01mNone\u001b[39;00m \u001b[38;5;129;01mor\u001b[39;00m f2 \u001b[38;5;241m!=\u001b[39m \u001b[38;5;28;01mNone\u001b[39;00m:\n",
      "File \u001b[1;32mC:\\Program Files\\Python\\lib\\site-packages\\pyautogui\\__init__.py:175\u001b[0m, in \u001b[0;36mraisePyAutoGUIImageNotFoundException.<locals>.wrapper\u001b[1;34m(*args, **kwargs)\u001b[0m\n\u001b[0;32m    172\u001b[0m \u001b[38;5;129m@functools\u001b[39m\u001b[38;5;241m.\u001b[39mwraps(wrappedFunction)\n\u001b[0;32m    173\u001b[0m \u001b[38;5;28;01mdef\u001b[39;00m \u001b[38;5;21mwrapper\u001b[39m(\u001b[38;5;241m*\u001b[39margs, \u001b[38;5;241m*\u001b[39m\u001b[38;5;241m*\u001b[39mkwargs):\n\u001b[0;32m    174\u001b[0m     \u001b[38;5;28;01mtry\u001b[39;00m:\n\u001b[1;32m--> 175\u001b[0m         \u001b[38;5;28;01mreturn\u001b[39;00m wrappedFunction(\u001b[38;5;241m*\u001b[39margs, \u001b[38;5;241m*\u001b[39m\u001b[38;5;241m*\u001b[39mkwargs)\n\u001b[0;32m    176\u001b[0m     \u001b[38;5;28;01mexcept\u001b[39;00m pyscreeze\u001b[38;5;241m.\u001b[39mImageNotFoundException:\n\u001b[0;32m    177\u001b[0m         \u001b[38;5;28;01mraise\u001b[39;00m ImageNotFoundException\n",
      "File \u001b[1;32mC:\\Program Files\\Python\\lib\\site-packages\\pyautogui\\__init__.py:213\u001b[0m, in \u001b[0;36mlocateOnScreen\u001b[1;34m(*args, **kwargs)\u001b[0m\n\u001b[0;32m    211\u001b[0m \u001b[38;5;129m@raisePyAutoGUIImageNotFoundException\u001b[39m\n\u001b[0;32m    212\u001b[0m \u001b[38;5;28;01mdef\u001b[39;00m \u001b[38;5;21mlocateOnScreen\u001b[39m(\u001b[38;5;241m*\u001b[39margs, \u001b[38;5;241m*\u001b[39m\u001b[38;5;241m*\u001b[39mkwargs):\n\u001b[1;32m--> 213\u001b[0m     \u001b[38;5;28;01mreturn\u001b[39;00m pyscreeze\u001b[38;5;241m.\u001b[39mlocateOnScreen(\u001b[38;5;241m*\u001b[39margs, \u001b[38;5;241m*\u001b[39m\u001b[38;5;241m*\u001b[39mkwargs)\n",
      "File \u001b[1;32m~\\AppData\\Roaming\\Python\\Python39\\site-packages\\pyscreeze\\__init__.py:373\u001b[0m, in \u001b[0;36mlocateOnScreen\u001b[1;34m(image, minSearchTime, **kwargs)\u001b[0m\n\u001b[0;32m    371\u001b[0m \u001b[38;5;28;01mtry\u001b[39;00m:\n\u001b[0;32m    372\u001b[0m     screenshotIm \u001b[38;5;241m=\u001b[39m screenshot(region\u001b[38;5;241m=\u001b[39m\u001b[38;5;28;01mNone\u001b[39;00m) \u001b[38;5;66;03m# the locateAll() function must handle cropping to return accurate coordinates, so don't pass a region here.\u001b[39;00m\n\u001b[1;32m--> 373\u001b[0m     retVal \u001b[38;5;241m=\u001b[39m locate(image, screenshotIm, \u001b[38;5;241m*\u001b[39m\u001b[38;5;241m*\u001b[39mkwargs)\n\u001b[0;32m    374\u001b[0m     \u001b[38;5;28;01mtry\u001b[39;00m:\n\u001b[0;32m    375\u001b[0m         screenshotIm\u001b[38;5;241m.\u001b[39mfp\u001b[38;5;241m.\u001b[39mclose()\n",
      "File \u001b[1;32m~\\AppData\\Roaming\\Python\\Python39\\site-packages\\pyscreeze\\__init__.py:353\u001b[0m, in \u001b[0;36mlocate\u001b[1;34m(needleImage, haystackImage, **kwargs)\u001b[0m\n\u001b[0;32m    351\u001b[0m \u001b[38;5;66;03m# Note: The gymnastics in this function is because we want to make sure to exhaust the iterator so that the needle and haystack files are closed in locateAll.\u001b[39;00m\n\u001b[0;32m    352\u001b[0m kwargs[\u001b[38;5;124m'\u001b[39m\u001b[38;5;124mlimit\u001b[39m\u001b[38;5;124m'\u001b[39m] \u001b[38;5;241m=\u001b[39m \u001b[38;5;241m1\u001b[39m\n\u001b[1;32m--> 353\u001b[0m points \u001b[38;5;241m=\u001b[39m \u001b[38;5;28;43mtuple\u001b[39;49m\u001b[43m(\u001b[49m\u001b[43mlocateAll\u001b[49m\u001b[43m(\u001b[49m\u001b[43mneedleImage\u001b[49m\u001b[43m,\u001b[49m\u001b[43m \u001b[49m\u001b[43mhaystackImage\u001b[49m\u001b[43m,\u001b[49m\u001b[43m \u001b[49m\u001b[38;5;241;43m*\u001b[39;49m\u001b[38;5;241;43m*\u001b[39;49m\u001b[43mkwargs\u001b[49m\u001b[43m)\u001b[49m\u001b[43m)\u001b[49m\n\u001b[0;32m    354\u001b[0m \u001b[38;5;28;01mif\u001b[39;00m \u001b[38;5;28mlen\u001b[39m(points) \u001b[38;5;241m>\u001b[39m \u001b[38;5;241m0\u001b[39m:\n\u001b[0;32m    355\u001b[0m     \u001b[38;5;28;01mreturn\u001b[39;00m points[\u001b[38;5;241m0\u001b[39m]\n",
      "File \u001b[1;32m~\\AppData\\Roaming\\Python\\Python39\\site-packages\\pyscreeze\\__init__.py:209\u001b[0m, in \u001b[0;36m_locateAll_opencv\u001b[1;34m(needleImage, haystackImage, grayscale, limit, region, step, confidence)\u001b[0m\n\u001b[0;32m    207\u001b[0m needleImage \u001b[38;5;241m=\u001b[39m _load_cv2(needleImage, grayscale)\n\u001b[0;32m    208\u001b[0m needleHeight, needleWidth \u001b[38;5;241m=\u001b[39m needleImage\u001b[38;5;241m.\u001b[39mshape[:\u001b[38;5;241m2\u001b[39m]\n\u001b[1;32m--> 209\u001b[0m haystackImage \u001b[38;5;241m=\u001b[39m \u001b[43m_load_cv2\u001b[49m\u001b[43m(\u001b[49m\u001b[43mhaystackImage\u001b[49m\u001b[43m,\u001b[49m\u001b[43m \u001b[49m\u001b[43mgrayscale\u001b[49m\u001b[43m)\u001b[49m\n\u001b[0;32m    211\u001b[0m \u001b[38;5;28;01mif\u001b[39;00m region:\n\u001b[0;32m    212\u001b[0m     haystackImage \u001b[38;5;241m=\u001b[39m haystackImage[region[\u001b[38;5;241m1\u001b[39m]:region[\u001b[38;5;241m1\u001b[39m]\u001b[38;5;241m+\u001b[39mregion[\u001b[38;5;241m3\u001b[39m],\n\u001b[0;32m    213\u001b[0m                                   region[\u001b[38;5;241m0\u001b[39m]:region[\u001b[38;5;241m0\u001b[39m]\u001b[38;5;241m+\u001b[39mregion[\u001b[38;5;241m2\u001b[39m]]\n",
      "File \u001b[1;32m~\\AppData\\Roaming\\Python\\Python39\\site-packages\\pyscreeze\\__init__.py:181\u001b[0m, in \u001b[0;36m_load_cv2\u001b[1;34m(img, grayscale)\u001b[0m\n\u001b[0;32m    178\u001b[0m         img_cv \u001b[38;5;241m=\u001b[39m img\n\u001b[0;32m    179\u001b[0m \u001b[38;5;28;01melif\u001b[39;00m \u001b[38;5;28mhasattr\u001b[39m(img, \u001b[38;5;124m'\u001b[39m\u001b[38;5;124mconvert\u001b[39m\u001b[38;5;124m'\u001b[39m):\n\u001b[0;32m    180\u001b[0m     \u001b[38;5;66;03m# assume its a PIL.Image, convert to cv format\u001b[39;00m\n\u001b[1;32m--> 181\u001b[0m     img_array \u001b[38;5;241m=\u001b[39m \u001b[43mnumpy\u001b[49m\u001b[38;5;241;43m.\u001b[39;49m\u001b[43marray\u001b[49m\u001b[43m(\u001b[49m\u001b[43mimg\u001b[49m\u001b[38;5;241;43m.\u001b[39;49m\u001b[43mconvert\u001b[49m\u001b[43m(\u001b[49m\u001b[38;5;124;43m'\u001b[39;49m\u001b[38;5;124;43mRGB\u001b[39;49m\u001b[38;5;124;43m'\u001b[39;49m\u001b[43m)\u001b[49m\u001b[43m)\u001b[49m\n\u001b[0;32m    182\u001b[0m     img_cv \u001b[38;5;241m=\u001b[39m img_array[:, :, ::\u001b[38;5;241m-\u001b[39m\u001b[38;5;241m1\u001b[39m]\u001b[38;5;241m.\u001b[39mcopy()  \u001b[38;5;66;03m# -1 does RGB -> BGR\u001b[39;00m\n\u001b[0;32m    183\u001b[0m     \u001b[38;5;28;01mif\u001b[39;00m grayscale:\n",
      "File \u001b[1;32mC:\\Program Files\\Python\\lib\\site-packages\\PIL\\Image.py:675\u001b[0m, in \u001b[0;36mImage.__array__\u001b[1;34m(self, dtype)\u001b[0m\n\u001b[0;32m    673\u001b[0m     new[\u001b[38;5;124m\"\u001b[39m\u001b[38;5;124mdata\u001b[39m\u001b[38;5;124m\"\u001b[39m] \u001b[38;5;241m=\u001b[39m \u001b[38;5;28mself\u001b[39m\u001b[38;5;241m.\u001b[39mtobytes(\u001b[38;5;124m\"\u001b[39m\u001b[38;5;124mraw\u001b[39m\u001b[38;5;124m\"\u001b[39m, \u001b[38;5;124m\"\u001b[39m\u001b[38;5;124mL\u001b[39m\u001b[38;5;124m\"\u001b[39m)\n\u001b[0;32m    674\u001b[0m \u001b[38;5;28;01melse\u001b[39;00m:\n\u001b[1;32m--> 675\u001b[0m     new[\u001b[38;5;124m\"\u001b[39m\u001b[38;5;124mdata\u001b[39m\u001b[38;5;124m\"\u001b[39m] \u001b[38;5;241m=\u001b[39m \u001b[38;5;28;43mself\u001b[39;49m\u001b[38;5;241;43m.\u001b[39;49m\u001b[43mtobytes\u001b[49m\u001b[43m(\u001b[49m\u001b[43m)\u001b[49m\n\u001b[0;32m    677\u001b[0m \u001b[38;5;28;01mreturn\u001b[39;00m np\u001b[38;5;241m.\u001b[39marray(\u001b[38;5;28mself\u001b[39m\u001b[38;5;241m.\u001b[39m_ArrayData(new), dtype)\n",
      "File \u001b[1;32mC:\\Program Files\\Python\\lib\\site-packages\\PIL\\Image.py:735\u001b[0m, in \u001b[0;36mImage.tobytes\u001b[1;34m(self, encoder_name, *args)\u001b[0m\n\u001b[0;32m    732\u001b[0m \u001b[38;5;28;01mif\u001b[39;00m s \u001b[38;5;241m<\u001b[39m \u001b[38;5;241m0\u001b[39m:\n\u001b[0;32m    733\u001b[0m     \u001b[38;5;28;01mraise\u001b[39;00m \u001b[38;5;167;01mRuntimeError\u001b[39;00m(\u001b[38;5;124mf\u001b[39m\u001b[38;5;124m\"\u001b[39m\u001b[38;5;124mencoder error \u001b[39m\u001b[38;5;132;01m{\u001b[39;00ms\u001b[38;5;132;01m}\u001b[39;00m\u001b[38;5;124m in tobytes\u001b[39m\u001b[38;5;124m\"\u001b[39m)\n\u001b[1;32m--> 735\u001b[0m \u001b[38;5;28;01mreturn\u001b[39;00m \u001b[38;5;124;43mb\u001b[39;49m\u001b[38;5;124;43m\"\u001b[39;49m\u001b[38;5;124;43m\"\u001b[39;49m\u001b[38;5;241;43m.\u001b[39;49m\u001b[43mjoin\u001b[49m\u001b[43m(\u001b[49m\u001b[43mdata\u001b[49m\u001b[43m)\u001b[49m\n",
      "\u001b[1;31mKeyboardInterrupt\u001b[0m: "
     ]
    }
   ],
   "source": [
    "import pyautogui as pg\n",
    "import time as tm\n",
    "\n",
    "while True:\n",
    "    #Loadear limitações\n",
    "    b = None\n",
    "    while b == None:\n",
    "        b = pg.locateOnScreen(r\"C:\\Users\\user\\Desktop\\Felipe\\Jupyter\\PNGs\\BookRef.png\", grayscale=True, confidence=0.8)\n",
    "    x = None\n",
    "    while x == None:\n",
    "        x = pg.locateOnScreen(r\"C:\\Users\\user\\Desktop\\Felipe\\Jupyter\\PNGs\\GoldPlus.png\", grayscale=True, confidence=0.8)\n",
    "    xInf = b.left #limite x inferior (esquerda) encontrado\n",
    "    xSup = b.left + 20.5 * b.width #limite x superior (direita) encontrado\n",
    "    yInf = x.top - 0.25 * x.height #limite y inferior (acima) encontrado\n",
    "    ySup = x.top + 1.33 * x.height #limite y superior (abaixo) encontrado\n",
    "    #print(\"Limitação: \", xInf, \"  \", yInf, \"  \", xSup, \"  \", ySup)\n",
    "    \n",
    "    #Calibrar sensor\n",
    "    f = None\n",
    "    f2 = None\n",
    "    while f == None and f2 == None:\n",
    "        f = pg.locateOnScreen(r\"C:\\Users\\user\\Desktop\\Felipe\\Jupyter\\PNGs\\GoldReady.png\", grayscale=True, confidence=0.8)\n",
    "        f2 = pg.locateOnScreen(r\"C:\\Users\\user\\Desktop\\Felipe\\Jupyter\\PNGs\\GoldReady2.png\", grayscale=True, confidence=0.8)\n",
    "    #print(\"Figura 1: \", f.top, \"  \", f.height, \"  \", f.left, \"  \", f.width)\n",
    "    #print(\"Figura 2: \", f2.top, \"  \", f2.height, \"  \", f2.left, \"  \", f2.width)\n",
    "    #Coletar com sensor calibrado e limites aplicados\n",
    "    while f != None or f2 != None:\n",
    "        if f != None and (((f.top + f.height) < yInf or f.top > ySup) or ((f.left + f.width) < xInf or f.left > xSup)):\n",
    "            pg.moveTo(f)\n",
    "            pg.click(f)\n",
    "        elif f2 != None and (((f2.top + f2.height) < yInf or f2.top > ySup) or ((f2.left + f2.width) < xInf or f2.left > xSup)):\n",
    "            pg.moveTo(f2)\n",
    "            pg.click(f2)\n",
    "        f = pg.locateOnScreen(r\"C:\\Users\\user\\Desktop\\Felipe\\Jupyter\\PNGs\\GoldReady.png\", grayscale=True, confidence=0.8)\n",
    "        if f == None:\n",
    "            f2 = pg.locateOnScreen(r\"C:\\Users\\user\\Desktop\\Felipe\\Jupyter\\PNGs\\GoldReady2.png\", grayscale=True, confidence=0.8)"
   ]
  },
  {
   "cell_type": "code",
   "execution_count": 50,
   "id": "06cd3fed",
   "metadata": {},
   "outputs": [
    {
     "name": "stdout",
     "output_type": "stream",
     "text": [
      "60.5     1027.5\n"
     ]
    }
   ],
   "source": [
    "#Uso apenas em caso de atualizações\n",
    "import pyautogui as pg\n",
    "import time as tm\n",
    "\n",
    "tm.sleep(2)\n",
    "b = None\n",
    "while b == None:\n",
    "    b = pg.locateOnScreen(r\"C:\\Users\\user\\Desktop\\Felipe\\Jupyter\\PNGs\\BookRef.png\", grayscale=True, confidence=0.8)\n",
    "x = None\n",
    "while x == None:\n",
    "    x = pg.locateOnScreen(r\"C:\\Users\\user\\Desktop\\Felipe\\Jupyter\\PNGs\\GoldPlus.png\", grayscale=True, confidence=0.8)\n",
    "x2 = pg.center(x)\n",
    "x4 = b.left #limite x inferior (esquerda) encontrado\n",
    "x4 = b.left + 20.5 * b.width #limite x superior (direita) encontrado\n",
    "x3 = x.top - 0.25 * x.height #limite y inferior (acima) encontrado\n",
    "x3 = x.top + 1.33 * x.height #limite y superior (abaixo) encontrado\n",
    "x3 = x.top + x.height / 2 #limite y superior (abaixo) encontrado\n",
    "print(x3, \"   \", x4)\n",
    "pg.moveTo(x=x4, y=x3)"
   ]
  },
  {
   "cell_type": "code",
   "execution_count": 83,
   "id": "9730ef72",
   "metadata": {},
   "outputs": [],
   "source": [
    "tm.sleep(4)\n",
    "pg.moveTo(x=1027.5, y=91.21)"
   ]
  },
  {
   "cell_type": "code",
   "execution_count": null,
   "id": "3823bbe7",
   "metadata": {},
   "outputs": [],
   "source": []
  }
 ],
 "metadata": {
  "kernelspec": {
   "display_name": "Python 3 (ipykernel)",
   "language": "python",
   "name": "python3"
  },
  "language_info": {
   "codemirror_mode": {
    "name": "ipython",
    "version": 3
   },
   "file_extension": ".py",
   "mimetype": "text/x-python",
   "name": "python",
   "nbconvert_exporter": "python",
   "pygments_lexer": "ipython3",
   "version": "3.9.12"
  }
 },
 "nbformat": 4,
 "nbformat_minor": 5
}
